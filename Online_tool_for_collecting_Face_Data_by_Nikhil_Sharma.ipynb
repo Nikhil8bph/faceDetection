{
  "nbformat": 4,
  "nbformat_minor": 0,
  "metadata": {
    "colab": {
      "name": "Online tool for collecting Face Data by Nikhil Sharma.ipynb",
      "provenance": [],
      "collapsed_sections": [],
      "authorship_tag": "ABX9TyMgNczqISAmMhXQiPzvSLMi",
      "include_colab_link": true
    },
    "kernelspec": {
      "name": "python3",
      "display_name": "Python 3"
    }
  },
  "cells": [
    {
      "cell_type": "markdown",
      "metadata": {
        "id": "view-in-github",
        "colab_type": "text"
      },
      "source": [
        "<a href=\"https://colab.research.google.com/github/Nikhil8bph/faceDetection/blob/main/Online_tool_for_collecting_Face_Data_by_Nikhil_Sharma.ipynb\" target=\"_parent\"><img src=\"https://colab.research.google.com/assets/colab-badge.svg\" alt=\"Open In Colab\"/></a>"
      ]
    },
    {
      "cell_type": "code",
      "metadata": {
        "id": "k8NrEQV_lmOQ"
      },
      "source": [
        "%%html\n",
        "<img src=\"https://lh3.googleusercontent.com/proxy/IiX6KIKTlG2o8EtO1xxcNiG7OdASBm27BvK5-I-stB9ig3ZyXK3Ct3gpR57c6-wx1ebvYQudXe0joaH5bcU9kKot_mQMTKek26hePYd-kResLb-m9w\" alt=\"welcome!\" class=\"center\">\n",
        "<h1><marquee style='width: 50%; height: 100%; color: Red;'><b>Nikhil Sharma Welcomes you!</b></marquee></h1>"
      ],
      "execution_count": null,
      "outputs": []
    },
    {
      "cell_type": "code",
      "metadata": {
        "id": "UQnvg-C-T8z4"
      },
      "source": [
        "!pip install cvlib"
      ],
      "execution_count": null,
      "outputs": []
    },
    {
      "cell_type": "code",
      "metadata": {
        "id": "uvJKFM4GUafP"
      },
      "source": [
        "# importing required modules \n",
        "from zipfile import ZipFile \n",
        "import os \n",
        "from google.colab import files\n",
        "from IPython.display import display, Javascript\n",
        "from google.colab.output import eval_js\n",
        "from base64 import b64decode\n",
        "import cv2\n",
        "import os\n",
        "import cvlib as cv\n",
        "from google.colab.patches import cv2_imshow\n",
        "\n",
        "def get_all_file_paths(directory): \n",
        "\t# initializing empty file paths list \n",
        "\tfile_paths = [] \n",
        "\t# crawling through directory and subdirectories \n",
        "\tfor root, directories, files in os.walk(directory): \n",
        "\t\tfor filename in files: \n",
        "\t\t\t# join the two strings in order to form the full filepath. \n",
        "\t\t\tfilepath = os.path.join(root, filename) \n",
        "\t\t\tfile_paths.append(filepath) \n",
        "\n",
        "\t# returning all file paths \n",
        "\treturn file_paths\t\t \n",
        "\n",
        "def zipper(name): \n",
        "\t# path to folder which needs to be zipped \n",
        "\tdirectory = './Faces'\n",
        "\t# calling function to get all file paths in the directory \n",
        "\tfile_paths = get_all_file_paths(directory) \n",
        "\t# printing the list of all files to be zipped \n",
        "\t# writing files to a zipfile \n",
        "\twith ZipFile(name+\".zip\",'w') as zip: \n",
        "\t\t# writing each file one by one \n",
        "\t\tfor file in file_paths: \n",
        "\t\t\tzip.write(file) \n",
        "\tprint('All files zipped successfully!')\t\t\n",
        "\n",
        "def take_photo(filename='photo.jpg', quality=0.8):\n",
        "  js = Javascript('''\n",
        "    async function takePhoto(quality) {\n",
        "      const div = document.createElement('div');\n",
        "      const capture = document.createElement('button');\n",
        "      capture.textContent = 'Capture';\n",
        "      div.appendChild(capture);\n",
        "\n",
        "      const video = document.createElement('video');\n",
        "      video.style.display = 'block';\n",
        "      const stream = await navigator.mediaDevices.getUserMedia({video: true});\n",
        "\n",
        "      document.body.appendChild(div);\n",
        "      div.appendChild(video);\n",
        "      video.srcObject = stream;\n",
        "      await video.play();\n",
        "\n",
        "      // Resize the output to fit the video element.\n",
        "      google.colab.output.setIframeHeight(document.documentElement.scrollHeight, true);\n",
        "\n",
        "      // Wait for Capture to be clicked.\n",
        "      //await new Promise((resolve) => capture.onclick = resolve);\n",
        "\n",
        "      const canvas = document.createElement('canvas');\n",
        "      canvas.width = video.videoWidth;\n",
        "      canvas.height = video.videoHeight;\n",
        "      canvas.getContext('2d').drawImage(video, 0, 0);\n",
        "      stream.getVideoTracks()[0].stop();\n",
        "      div.remove();\n",
        "      return canvas.toDataURL('image/jpeg', quality);\n",
        "    }\n",
        "    ''')\n",
        "  display(js)\n",
        "  data = eval_js('takePhoto({})'.format(quality))\n",
        "  binary = b64decode(data.split(',')[1])\n",
        "  with open(filename, 'wb') as f:\n",
        "    f.write(binary)\n",
        "  return filename\n",
        "def FrameCapture(name):\n",
        "    # Path to video file\n",
        "    # Used as counter variable\n",
        "    count = len(os.listdir(\"Faces/\"+name))\n",
        "    max = count+100\n",
        "    # checks whether frames were extracted\n",
        "    success = 1\n",
        "    for i in range(count,max):\n",
        "      image = cv2.imread(take_photo())\n",
        "      faces, confidences = cv.detect_face(image)\n",
        "      # loop through detected faces and add bounding box\n",
        "      for face in faces:\n",
        "            (startX, startY) = face[0], face[1]\n",
        "            (endX, endY) = face[2], face[3]\n",
        "            # draw rectangle over face\n",
        "            crop_img = image[startY:endY, startX:endX]\n",
        "            cv2.rectangle(image, (startX, startY), (endX, endY), (0, 255, 0), 2)\n",
        "            # display output\n",
        "            path = \"Faces/\"+name+\"/frame\"+str(count)+\".jpg\"\n",
        "            cv2.imwrite(path, crop_img)\n",
        "            count += 1\n",
        "      cv2_imshow(image)\n",
        "      if count == max:\n",
        "            return"
      ],
      "execution_count": 19,
      "outputs": []
    },
    {
      "cell_type": "code",
      "metadata": {
        "id": "t0MGtdPiUAW2"
      },
      "source": [
        "try:\n",
        "    os.mkdir(\"Faces\")\n",
        "except:\n",
        "    pass\n",
        "\n",
        "name = input(\"What is your name? : \")\n",
        "try:\n",
        "    pth = \"Faces/\"+name\n",
        "    os.mkdir(pth)\n",
        "except:\n",
        "    pass\n",
        "FrameCapture(name)\n",
        "zipper(name)\n",
        "files.download(name+\".zip\") "
      ],
      "execution_count": null,
      "outputs": []
    },
    {
      "cell_type": "code",
      "metadata": {
        "id": "VdEEy3f1fgKR"
      },
      "source": [
        "%%html\n",
        "<img src=\"https://media.tenor.com/images/4c84b661183dfb65833a97d57400597a/tenor.gif\" alt=\"Thank You!\",width=\"360\" height=\"360\">\n",
        "<h1><marquee style='width: 50%; height: 100%; color: blue;'><b>Thank You!</b></marquee></h1>"
      ],
      "execution_count": null,
      "outputs": []
    },
    {
      "cell_type": "code",
      "metadata": {
        "id": "VNHrimxJktFq"
      },
      "source": [
        ""
      ],
      "execution_count": null,
      "outputs": []
    }
  ]
}