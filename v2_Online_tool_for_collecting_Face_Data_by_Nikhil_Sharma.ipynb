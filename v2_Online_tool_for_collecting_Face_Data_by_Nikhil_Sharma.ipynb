{
  "nbformat": 4,
  "nbformat_minor": 0,
  "metadata": {
    "colab": {
      "name": "v2 Online tool for collecting Face Data by Nikhil Sharma.ipynb",
      "provenance": [],
      "collapsed_sections": []
    },
    "kernelspec": {
      "display_name": "Python 3",
      "name": "python3"
    }
  },
  "cells": [
    {
      "cell_type": "code",
      "metadata": {
        "colab": {
          "base_uri": "https://localhost:8080/",
          "height": 446
        },
        "id": "k8NrEQV_lmOQ",
        "cellView": "form",
        "outputId": "290f100e-0f32-40f6-fa64-3dcb42095950"
      },
      "source": [
        "#@title\n",
        "%%html\n",
        "<img src=\"https://media4.giphy.com/media/OkJat1YNdoD3W/giphy.gif\" alt=\"welcome!\" class=\"center\">\n",
        "<h1><marquee style='width: 50%; height: 100%; color: Red;'><b>Nikhil Sharma Welcomes you!</b></marquee></h1>"
      ],
      "execution_count": 1,
      "outputs": [
        {
          "output_type": "display_data",
          "data": {
            "text/html": [
              "<img src=\"https://media4.giphy.com/media/OkJat1YNdoD3W/giphy.gif\" alt=\"welcome!\" class=\"center\">\n",
              "<h1><marquee style='width: 50%; height: 100%; color: Red;'><b>Nikhil Sharma Welcomes you!</b></marquee></h1>"
            ],
            "text/plain": [
              "<IPython.core.display.HTML object>"
            ]
          },
          "metadata": {
            "tags": []
          }
        }
      ]
    },
    {
      "cell_type": "markdown",
      "metadata": {
        "id": "6aS3ej4c3pyI"
      },
      "source": [
        " **Instructions:**\n",
        "\n",
        "1. Run the complete Notebook and you need to enter your name\n",
        "2. This is automated so your data will be send directly to me as a mail \n",
        "3. It will capture 200 images in one run so do not repeat by running this notebook\n",
        "4. This data is safe, I won't use it's power to tease you. **XD**\n",
        "5. It would be nice if you are using a **lighted room** and single color **background**\n",
        "6. There maybe case when my code is unable to send data, in that case a fill will get downloaded with your name send that to me manually.\n",
        "\n",
        "**Tutorial Video**:\n",
        "\n",
        "https://drive.google.com/file/d/1Hhy08BFXgeKVuZO8bqhO9pOyP4ZBUvJK/view?usp=sharing"
      ]
    },
    {
      "cell_type": "code",
      "metadata": {
        "colab": {
          "base_uri": "https://localhost:8080/"
        },
        "id": "DBXPn7XE-C2B",
        "outputId": "5d27d02d-114d-4ca5-facc-7a6cf2fb0cdc"
      },
      "source": [
        "name = input(\"What is your name? : \")"
      ],
      "execution_count": 2,
      "outputs": [
        {
          "output_type": "stream",
          "text": [
            "What is your name? : Nikhil\n"
          ],
          "name": "stdout"
        }
      ]
    },
    {
      "cell_type": "markdown",
      "metadata": {
        "id": "8sdQ_yJu_FZq"
      },
      "source": [
        "# Some Dependencies are getting installed"
      ]
    },
    {
      "cell_type": "code",
      "metadata": {
        "id": "uvJKFM4GUafP",
        "colab": {
          "base_uri": "https://localhost:8080/"
        },
        "cellView": "form",
        "outputId": "475e65c3-f678-40ab-e534-0ce10b8d548b"
      },
      "source": [
        "#@title\n",
        "!pip install cvlib\n",
        "# importing required modules \n",
        "from zipfile import ZipFile \n",
        "import os \n",
        "from google.colab import files\n",
        "from IPython.display import display, Javascript\n",
        "from google.colab.output import eval_js\n",
        "from base64 import b64decode\n",
        "import cv2\n",
        "import os\n",
        "import cvlib as cv\n",
        "from google.colab.patches import cv2_imshow\n",
        " \n",
        "def get_all_file_paths(directory): \n",
        "    # initializing empty file paths list \n",
        "    file_paths = [] \n",
        "    # crawling through directory and subdirectories \n",
        "    for root, directories, files in os.walk(directory): \n",
        "        for filename in files: \n",
        "            # join the two strings in order to form the full filepath. \n",
        "            filepath = os.path.join(root, filename) \n",
        "            file_paths.append(filepath) \n",
        " \n",
        "    # returning all file paths \n",
        "    return file_paths        \n",
        " \n",
        "def zipper(name): \n",
        "    # path to folder which needs to be zipped \n",
        "    directory = './Faces'\n",
        "    import shutil\n",
        "    path = \"Faces/\"+name+\"/video\"\n",
        "    import os\n",
        "    try:\n",
        "      os.mkdir(path)\n",
        "    except:\n",
        "      pass\n",
        "    shutil.copy(\"video.mp4\",path)\n",
        "    # calling function to get all file paths in the directory \n",
        "    file_paths = get_all_file_paths(directory) \n",
        "    # printing the list of all files to be zipped \n",
        "    # writing files to a zipfile \n",
        "    with ZipFile(name+\".zip\",'w') as zip: \n",
        "        # writing each file one by one \n",
        "        for file in file_paths: \n",
        "            zip.write(file) \n",
        "    print('All files zipped successfully!')     \n",
        " \n",
        "def take_photo(filename='photo.jpg', quality=0.8):\n",
        "  js = Javascript('''\n",
        "    async function takePhoto(quality) {\n",
        "      const div = document.createElement('div');\n",
        "      const capture = document.createElement('button');\n",
        "      capture.textContent = 'Capture';\n",
        "      div.appendChild(capture);\n",
        " \n",
        "      const video = document.createElement('video');\n",
        "      video.style.display = 'block';\n",
        "      const stream = await navigator.mediaDevices.getUserMedia({video: true});\n",
        " \n",
        "      document.body.appendChild(div);\n",
        "      div.appendChild(video);\n",
        "      video.srcObject = stream;\n",
        "      await video.play();\n",
        " \n",
        "      // Resize the output to fit the video element.\n",
        "      google.colab.output.setIframeHeight(document.documentElement.scrollHeight, true);\n",
        " \n",
        "      // Wait for Capture to be clicked.\n",
        "      //await new Promise((resolve) => capture.onclick = resolve);\n",
        " \n",
        "      const canvas = document.createElement('canvas');\n",
        "      canvas.width = video.videoWidth;\n",
        "      canvas.height = video.videoHeight;\n",
        "      canvas.getContext('2d').drawImage(video, 0, 0);\n",
        "      stream.getVideoTracks()[0].stop();\n",
        "      div.remove();\n",
        "      return canvas.toDataURL('image/jpeg', quality);\n",
        "    }\n",
        "    ''')\n",
        "  display(js)\n",
        "  data = eval_js('takePhoto({})'.format(quality))\n",
        "  binary = b64decode(data.split(',')[1])\n",
        "  with open(filename, 'wb') as f:\n",
        "    f.write(binary)\n",
        "  return filename\n",
        "from IPython.display import display, Javascript\n",
        "from google.colab.output import eval_js\n",
        "from base64 import b64decode\n",
        "\n",
        "def record_video(filename='video.mp4'):\n",
        "\n",
        "  # This function uses the take_photo() function provided by the Colab team as a  \n",
        "  # starting point, along with a bunch of stuff from Stack overflow, and some sample code \n",
        "  # from: https://developer.mozilla.org/enUS/docs/Web/API/MediaStream_Recording_API\n",
        "\n",
        "  js = Javascript(\"\"\"\n",
        "    async function recordVideo() {\n",
        "      const options = { mimeType: \"video/webm; codecs=vp9\" };\n",
        "      const div = document.createElement('div');\n",
        "      const capture = document.createElement('button');\n",
        "      const stopCapture = document.createElement(\"button\");\n",
        "      capture.textContent = \"Start Recording\";\n",
        "      capture.style.background = \"green\";\n",
        "      capture.style.color = \"white\";\n",
        "\n",
        "      stopCapture.textContent = \"Stop Recording\";\n",
        "      stopCapture.style.background = \"red\";\n",
        "      stopCapture.style.color = \"white\";\n",
        "      div.appendChild(capture);\n",
        "\n",
        "      const video = document.createElement('video');\n",
        "      const recordingVid = document.createElement(\"video\");\n",
        "      video.style.display = 'block';\n",
        "\n",
        "      const stream = await navigator.mediaDevices.getUserMedia({video: true});\n",
        "      let recorder = new MediaRecorder(stream, options);\n",
        "      document.body.appendChild(div);\n",
        "      div.appendChild(video);\n",
        "      video.srcObject = stream;\n",
        "      await video.play();\n",
        "\n",
        "      // Resize the output to fit the video element.\n",
        "      google.colab.output.setIframeHeight(document.documentElement.scrollHeight, true);\n",
        "\n",
        "      await new Promise((resolve) => {\n",
        "        capture.onclick = resolve;\n",
        "      });\n",
        "      recorder.start();\n",
        "      capture.replaceWith(stopCapture);\n",
        "      await new Promise((resolve) => stopCapture.onclick = resolve);\n",
        "      recorder.stop();\n",
        "\n",
        "      let recData = await new Promise((resolve) => recorder.ondataavailable = resolve);\n",
        "      let arrBuff = await recData.data.arrayBuffer();\n",
        "      stream.getVideoTracks()[0].stop();\n",
        "      div.remove();\n",
        "\n",
        "      let binaryString = \"\";\n",
        "      let bytes = new Uint8Array(arrBuff);\n",
        "      bytes.forEach((byte) => {\n",
        "        binaryString += String.fromCharCode(byte);\n",
        "      })\n",
        "      return btoa(binaryString);\n",
        "    }\n",
        "    \"\"\")\n",
        "  try:\n",
        "    display(js)\n",
        "    data = eval_js('recordVideo({})')\n",
        "    binary = b64decode(data)\n",
        "    with open(filename, \"wb\") as video_file:\n",
        "      video_file.write(binary)\n",
        "    print(\n",
        "        f\"Finished recording video. Saved binary under filename in current working directory: {filename}\"\n",
        "    )\n",
        "  except Exception as err:\n",
        "      # In case any exceptions arise\n",
        "      print(str(err))\n",
        "  return filename\n",
        "  \n",
        "def mail_sender(name,fromaddr,toaddr,password):\n",
        "  import smtplib \n",
        "  from email.mime.multipart import MIMEMultipart \n",
        "  from email.mime.text import MIMEText \n",
        "  from email.mime.base import MIMEBase \n",
        "  from email import encoders \n",
        "  fromaddr = fromaddr\n",
        "  toaddr = toaddr #\"nikhil8.jsg@gmail.com\"\n",
        "  # instance of MIMEMultipart \n",
        "  msg = MIMEMultipart() \n",
        "  # storing the senders email address \n",
        "  msg['From'] = fromaddr \n",
        "  # storing the receivers email address \n",
        "  msg['To'] = toaddr \n",
        "  # storing the subject \n",
        "  msg['Subject'] = name +\" has created a dataset for you\"\n",
        "  # string to store the body of the mail \n",
        "  body = 'Hello Nikhil! \\n\\n'+name+\" has created a dataset and send you please check it \\n\\n Thank You \\n\\n Nikhil's Agent\"\n",
        "  # attach the body with the msg instance \n",
        "  msg.attach(MIMEText(body, 'plain')) \n",
        "  # open the file to be sent \n",
        "  filename = name+\".zip\"\n",
        "  attachment = open(name+\".zip\", \"rb\") \n",
        "  # instance of MIMEBase and named as p \n",
        "  p = MIMEBase('application', 'octet-stream') \n",
        "  # To change the payload into encoded form \n",
        "  p.set_payload((attachment).read()) \n",
        "  # encode into base64 \n",
        "  encoders.encode_base64(p) \n",
        "  p.add_header('Content-Disposition', \"attachment; filename= %s\" % filename) \n",
        "  # attach the instance 'p' to instance 'msg' \n",
        "  msg.attach(p) \n",
        "  # creates SMTP session \n",
        "  s = smtplib.SMTP('smtp.gmail.com', 587) \n",
        "  # start TLS for security \n",
        "  s.starttls() \n",
        "  # Authentication \n",
        "  s.login(fromaddr, password) \n",
        "  # Converts the Multipart msg into a string \n",
        "  text = msg.as_string() \n",
        "  # sending the mail \n",
        "  s.sendmail(fromaddr, toaddr, text) \n",
        "  # terminating the session \n",
        "  s.quit() \n",
        "\n",
        "def FrameCapture(name):\n",
        "    # Path to video file\n",
        "    # Used as counter variable\n",
        "    count = len(os.listdir(\"Faces/\"+name))\n",
        "    max = count+200\n",
        "    # checks whether frames were extracted\n",
        "    success = 1\n",
        "    for i in range(count,max):\n",
        "      image = cv2.imread(take_photo())\n",
        "      faces, confidences = cv.detect_face(image)\n",
        "      # loop through detected faces and add bounding box\n",
        "      #print(image.shape)\n",
        "      for face in faces:\n",
        "            (startX, startY) = face[0], face[1]\n",
        "            (endX, endY) = face[2], face[3]\n",
        "            # draw rectangle over face\n",
        "            crop_img = image[startY:endY, startX:endX]\n",
        "            cv2.rectangle(image, (startX, startY), (endX, endY), (0, 255, 0), 2)\n",
        "            org = (10,70)\n",
        "            image = cv2.putText(image, \"Image: \"+str(count), org, cv2.FONT_HERSHEY_SIMPLEX,1, (255,0,0), 2, cv2.LINE_AA)\n",
        "            # display output\n",
        "            path = \"Faces/\"+name+\"/frame\"+str(count)+\".jpg\"\n",
        "            cv2.imwrite(path, crop_img)\n",
        "            count += 1\n",
        "      cv2_imshow(image)\n",
        "      if count == max:\n",
        "            return\n",
        "\n",
        "def FrameCaptureVideo(name):\n",
        "    # Path to video file\n",
        "    # Used as counter variable\n",
        "    count = len(os.listdir(\"Faces/\"+name))\n",
        "    max = count+5000\n",
        "    # checks whether frames were extracted\n",
        "    success = 1\n",
        "    vid = cv2.VideoCapture('video.mp4') \n",
        "    while(True):\n",
        "      try:\n",
        "        ret, image = vid.read()\n",
        "        faces, confidences = cv.detect_face(image)\n",
        "        # loop through detected faces and add bounding box\n",
        "        #print(image.shape)\n",
        "        for face in faces:\n",
        "              (startX, startY) = face[0], face[1]\n",
        "              (endX, endY) = face[2], face[3]\n",
        "              # draw rectangle over face\n",
        "              crop_img = image[startY:endY, startX:endX]\n",
        "              cv2.rectangle(image, (startX, startY), (endX, endY), (0, 255, 0), 2)\n",
        "              org = (10,70)\n",
        "              image = cv2.putText(image, \"Image: \"+str(count), org, cv2.FONT_HERSHEY_SIMPLEX,1, (255,0,0), 2, cv2.LINE_AA)\n",
        "              # display output\n",
        "              path = \"Faces/\"+name+\"/frame\"+str(count)+\".jpg\"\n",
        "              cv2.imwrite(path, crop_img)\n",
        "              count += 1\n",
        "        if (count%10==0):\n",
        "          print(count)\n",
        "        if count == max:\n",
        "              return\n",
        "      except:\n",
        "        print(\"The number of data collected is : \",count)\n",
        "        return\n",
        "\n",
        "def recorder():\n",
        "  # Run the function, get the video path as saved in your notebook, and play it back here.\n",
        "  from IPython.display import HTML\n",
        "  from base64 import b64encode\n",
        "\n",
        "  video_width = 300\n",
        "\n",
        "  video_path = record_video()\n",
        "  video_file = open(video_path, \"r+b\").read()\n",
        "\n",
        "  video_url = f\"data:video/mp4;base64,{b64encode(video_file).decode()}\"\n",
        "  HTML(f\"\"\"<video width={video_width} controls><source src=\"{video_url}\"></video>\"\"\")"
      ],
      "execution_count": 14,
      "outputs": [
        {
          "output_type": "stream",
          "text": [
            "Requirement already satisfied: cvlib in /usr/local/lib/python3.7/dist-packages (0.2.6)\n",
            "Requirement already satisfied: imutils in /usr/local/lib/python3.7/dist-packages (from cvlib) (0.5.4)\n",
            "Requirement already satisfied: pillow in /usr/local/lib/python3.7/dist-packages (from cvlib) (7.1.2)\n",
            "Requirement already satisfied: requests in /usr/local/lib/python3.7/dist-packages (from cvlib) (2.23.0)\n",
            "Requirement already satisfied: progressbar in /usr/local/lib/python3.7/dist-packages (from cvlib) (2.5)\n",
            "Requirement already satisfied: imageio in /usr/local/lib/python3.7/dist-packages (from cvlib) (2.4.1)\n",
            "Requirement already satisfied: numpy in /usr/local/lib/python3.7/dist-packages (from cvlib) (1.19.5)\n",
            "Requirement already satisfied: chardet<4,>=3.0.2 in /usr/local/lib/python3.7/dist-packages (from requests->cvlib) (3.0.4)\n",
            "Requirement already satisfied: idna<3,>=2.5 in /usr/local/lib/python3.7/dist-packages (from requests->cvlib) (2.10)\n",
            "Requirement already satisfied: certifi>=2017.4.17 in /usr/local/lib/python3.7/dist-packages (from requests->cvlib) (2020.12.5)\n",
            "Requirement already satisfied: urllib3!=1.25.0,!=1.25.1,<1.26,>=1.21.1 in /usr/local/lib/python3.7/dist-packages (from requests->cvlib) (1.24.3)\n"
          ],
          "name": "stdout"
        }
      ]
    },
    {
      "cell_type": "markdown",
      "metadata": {
        "id": "Qe8pobOn-7K5"
      },
      "source": [
        "# We Need This place to remain active as it where our code is.\n"
      ]
    },
    {
      "cell_type": "code",
      "metadata": {
        "cellView": "form",
        "id": "fcRDIc02A0H5"
      },
      "source": [
        "#@title\n",
        "try:\n",
        "    os.mkdir(\"Faces\")\n",
        "except:\n",
        "    pass\n",
        "try:\n",
        "    pth = \"Faces/\"+name \n",
        "    os.mkdir(pth)\n",
        "except:\n",
        "    pass"
      ],
      "execution_count": 15,
      "outputs": []
    },
    {
      "cell_type": "code",
      "metadata": {
        "colab": {
          "base_uri": "https://localhost:8080/",
          "height": 34
        },
        "id": "t0MGtdPiUAW2",
        "outputId": "f8469035-e143-4f13-c5bb-fd05e12b3698"
      },
      "source": [
        "recorder()"
      ],
      "execution_count": 16,
      "outputs": [
        {
          "output_type": "display_data",
          "data": {
            "application/javascript": [
              "\n",
              "    async function recordVideo() {\n",
              "      const options = { mimeType: \"video/webm; codecs=vp9\" };\n",
              "      const div = document.createElement('div');\n",
              "      const capture = document.createElement('button');\n",
              "      const stopCapture = document.createElement(\"button\");\n",
              "      capture.textContent = \"Start Recording\";\n",
              "      capture.style.background = \"green\";\n",
              "      capture.style.color = \"white\";\n",
              "\n",
              "      stopCapture.textContent = \"Stop Recording\";\n",
              "      stopCapture.style.background = \"red\";\n",
              "      stopCapture.style.color = \"white\";\n",
              "      div.appendChild(capture);\n",
              "\n",
              "      const video = document.createElement('video');\n",
              "      const recordingVid = document.createElement(\"video\");\n",
              "      video.style.display = 'block';\n",
              "\n",
              "      const stream = await navigator.mediaDevices.getUserMedia({video: true});\n",
              "      let recorder = new MediaRecorder(stream, options);\n",
              "      document.body.appendChild(div);\n",
              "      div.appendChild(video);\n",
              "      video.srcObject = stream;\n",
              "      await video.play();\n",
              "\n",
              "      // Resize the output to fit the video element.\n",
              "      google.colab.output.setIframeHeight(document.documentElement.scrollHeight, true);\n",
              "\n",
              "      await new Promise((resolve) => {\n",
              "        capture.onclick = resolve;\n",
              "      });\n",
              "      recorder.start();\n",
              "      capture.replaceWith(stopCapture);\n",
              "      await new Promise((resolve) => stopCapture.onclick = resolve);\n",
              "      recorder.stop();\n",
              "\n",
              "      let recData = await new Promise((resolve) => recorder.ondataavailable = resolve);\n",
              "      let arrBuff = await recData.data.arrayBuffer();\n",
              "      stream.getVideoTracks()[0].stop();\n",
              "      div.remove();\n",
              "\n",
              "      let binaryString = \"\";\n",
              "      let bytes = new Uint8Array(arrBuff);\n",
              "      bytes.forEach((byte) => {\n",
              "        binaryString += String.fromCharCode(byte);\n",
              "      })\n",
              "      return btoa(binaryString);\n",
              "    }\n",
              "    "
            ],
            "text/plain": [
              "<IPython.core.display.Javascript object>"
            ]
          },
          "metadata": {
            "tags": []
          }
        },
        {
          "output_type": "stream",
          "text": [
            "Finished recording video. Saved binary under filename in current working directory: video.mp4\n"
          ],
          "name": "stdout"
        }
      ]
    },
    {
      "cell_type": "code",
      "metadata": {
        "colab": {
          "base_uri": "https://localhost:8080/",
          "height": 85
        },
        "cellView": "form",
        "id": "4a3_OR7TA73h",
        "outputId": "9f36e837-a4f0-43c4-b4a8-a8feae609054"
      },
      "source": [
        "#@title\n",
        "FrameCaptureVideo(name)\n",
        "zipper(name)\n",
        "try:\n",
        "  mail_sender(name,fromaddr,toaddr,password)\n",
        "except:\n",
        "  files.download(name+\".zip\")"
      ],
      "execution_count": 17,
      "outputs": [
        {
          "output_type": "stream",
          "text": [
            "720\n",
            "730\n",
            "The number of data collected is :  738\n",
            "All files zipped successfully!\n"
          ],
          "name": "stdout"
        },
        {
          "output_type": "display_data",
          "data": {
            "application/javascript": [
              "\n",
              "    async function download(id, filename, size) {\n",
              "      if (!google.colab.kernel.accessAllowed) {\n",
              "        return;\n",
              "      }\n",
              "      const div = document.createElement('div');\n",
              "      const label = document.createElement('label');\n",
              "      label.textContent = `Downloading \"${filename}\": `;\n",
              "      div.appendChild(label);\n",
              "      const progress = document.createElement('progress');\n",
              "      progress.max = size;\n",
              "      div.appendChild(progress);\n",
              "      document.body.appendChild(div);\n",
              "\n",
              "      const buffers = [];\n",
              "      let downloaded = 0;\n",
              "\n",
              "      const channel = await google.colab.kernel.comms.open(id);\n",
              "      // Send a message to notify the kernel that we're ready.\n",
              "      channel.send({})\n",
              "\n",
              "      for await (const message of channel.messages) {\n",
              "        // Send a message to notify the kernel that we're ready.\n",
              "        channel.send({})\n",
              "        if (message.buffers) {\n",
              "          for (const buffer of message.buffers) {\n",
              "            buffers.push(buffer);\n",
              "            downloaded += buffer.byteLength;\n",
              "            progress.value = downloaded;\n",
              "          }\n",
              "        }\n",
              "      }\n",
              "      const blob = new Blob(buffers, {type: 'application/binary'});\n",
              "      const a = document.createElement('a');\n",
              "      a.href = window.URL.createObjectURL(blob);\n",
              "      a.download = filename;\n",
              "      div.appendChild(a);\n",
              "      a.click();\n",
              "      div.remove();\n",
              "    }\n",
              "  "
            ],
            "text/plain": [
              "<IPython.core.display.Javascript object>"
            ]
          },
          "metadata": {
            "tags": []
          }
        },
        {
          "output_type": "display_data",
          "data": {
            "application/javascript": [
              "download(\"download_29236217-b413-41f4-8ac0-b8a9682f2ed1\", \"Nikhil.zip\", 7272233)"
            ],
            "text/plain": [
              "<IPython.core.display.Javascript object>"
            ]
          },
          "metadata": {
            "tags": []
          }
        }
      ]
    },
    {
      "cell_type": "code",
      "metadata": {
        "colab": {
          "base_uri": "https://localhost:8080/",
          "height": 446
        },
        "id": "VdEEy3f1fgKR",
        "cellView": "form",
        "outputId": "27f34de1-d02f-42a7-d8e8-4b10e0f7a1e1"
      },
      "source": [
        "#@title\n",
        "%%html\n",
        "<img src=\"https://media.tenor.com/images/4c84b661183dfb65833a97d57400597a/tenor.gif\" alt=\"Thank You!\",width=\"360\" height=\"360\">\n",
        "<h1><marquee style='width: 50%; height: 100%; color: blue;'><b>Thank You!</b></marquee></h1>"
      ],
      "execution_count": 7,
      "outputs": [
        {
          "output_type": "display_data",
          "data": {
            "text/html": [
              "<img src=\"https://media.tenor.com/images/4c84b661183dfb65833a97d57400597a/tenor.gif\" alt=\"Thank You!\",width=\"360\" height=\"360\">\n",
              "<h1><marquee style='width: 50%; height: 100%; color: blue;'><b>Thank You!</b></marquee></h1>"
            ],
            "text/plain": [
              "<IPython.core.display.HTML object>"
            ]
          },
          "metadata": {
            "tags": []
          }
        }
      ]
    }
  ]
}